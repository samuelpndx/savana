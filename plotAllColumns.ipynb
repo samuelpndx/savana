{
 "cells": [
  {
   "cell_type": "code",
   "execution_count": null,
   "metadata": {},
   "outputs": [],
   "source": [
    "%matplotlib inline\n",
    "import pandas as pd\n",
    "import matplotlib.pyplot as plt"
   ]
  },
  {
   "cell_type": "code",
   "execution_count": null,
   "metadata": {},
   "outputs": [],
   "source": [
    "#Carregar o arquivo .sav\n",
    "df = pd.read_csv ('2019-03-07__03-00-26.sav', header=None, comment='\\t',\n",
    "                  delim_whitespace=True, low_memory=False,\n",
    "                  na_values=(-9999, -99999))"
   ]
  },
  {
   "cell_type": "code",
   "execution_count": null,
   "metadata": {},
   "outputs": [],
   "source": [
    "#Opção para exibir no máximo 70 colunas\n",
    "pd.set_option('display.max_columns', 70)"
   ]
  },
  {
   "cell_type": "code",
   "execution_count": null,
   "metadata": {},
   "outputs": [],
   "source": [
    "#Imprimir as 5 primeiras linhas do arquivo\n",
    "df.head()"
   ]
  },
  {
   "cell_type": "code",
   "execution_count": null,
   "metadata": {},
   "outputs": [],
   "source": [
    "#Converter a coluna 0 para o tipo data\n",
    "df[0] = pd.to_datetime(df[0], format='%Y-%m-%d')"
   ]
  },
  {
   "cell_type": "code",
   "execution_count": null,
   "metadata": {},
   "outputs": [],
   "source": [
    "#Configurar a coluna 0 como índice do dataframe para poder separar\n",
    "#os dados quando houver mais de um dia no arquivo\n",
    "df.set_index(0, inplace=True)"
   ]
  },
  {
   "cell_type": "code",
   "execution_count": null,
   "metadata": {},
   "outputs": [],
   "source": [
    "#Imprimir as 5 ultimas linhas do arquivo\n",
    "df.tail()"
   ]
  },
  {
   "cell_type": "code",
   "execution_count": null,
   "metadata": {
    "scrolled": true
   },
   "outputs": [],
   "source": [
    "#Descrição das colunas do dataframe\n",
    "df.describe()"
   ]
  },
  {
   "cell_type": "code",
   "execution_count": null,
   "metadata": {},
   "outputs": [],
   "source": [
    "#Separar o arquivo baseado na data. Colocar entre aspas simples e \n",
    "#dentro dos colchetes a data de início : data final\n",
    "new_df = df.loc['2019-3-8':'2019-3-8']"
   ]
  },
  {
   "cell_type": "code",
   "execution_count": null,
   "metadata": {},
   "outputs": [],
   "source": [
    "#Imprimir o começo e o final do novo dataframe depois da separação\n",
    "new_df"
   ]
  },
  {
   "cell_type": "code",
   "execution_count": null,
   "metadata": {},
   "outputs": [],
   "source": [
    "#Plotar toda as colunas;\n",
    "#Se quiser plotar os dados de um dataframe separado, basta substituir\n",
    "#a variável 'df' pelo nome do novo dataframe nas linhas abaixo.\n",
    "for i in range(len(df.columns)):\n",
    "    fig = plt.figure(figsize=(12,7))\n",
    "    #ax = fig.add_subplot(1, 1, 1)\n",
    "    #ax.plot(df[67])\n",
    "    plt.plot(df[i])\n",
    "    plt.tight_layout()\n",
    "    fig.savefig(str(i) + \".png\")\n",
    "    plt.close(fig)"
   ]
  }
 ],
 "metadata": {
  "kernelspec": {
   "display_name": "Python 3",
   "language": "python",
   "name": "python3"
  },
  "language_info": {
   "codemirror_mode": {
    "name": "ipython",
    "version": 3
   },
   "file_extension": ".py",
   "mimetype": "text/x-python",
   "name": "python",
   "nbconvert_exporter": "python",
   "pygments_lexer": "ipython3",
   "version": "3.7.1"
  }
 },
 "nbformat": 4,
 "nbformat_minor": 2
}
